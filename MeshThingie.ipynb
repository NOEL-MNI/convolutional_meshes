{
 "cells": [
  {
   "cell_type": "code",
   "execution_count": 9,
   "metadata": {
    "collapsed": false
   },
   "outputs": [
    {
     "name": "stdout",
     "output_type": "stream",
     "text": [
      "[10100 10101 10102 ..., 19621 19622 19639]\n"
     ]
    }
   ],
   "source": [
    "import io_mesh as io\n",
    "import numpy as np\n",
    "\n",
    "#import template mesh. has fields mesh['coords'] for xyz coordinates\n",
    "# and mesh['faces'] for face indices\n",
    "mesh = io.load_mesh_geometry('Structure/average/S900.L.pial_MSMAll.32k_fs_LR.surf.gii')\n",
    "\n",
    "#load in mask of vertices being considered (BA44 and 45)\n",
    "mask = np.loadtxt('vlpfc_nodes.1D', dtype=int)\n",
    "\n",
    "#restrict mesh using the mask\n",
    "print mask"
   ]
  },
  {
   "cell_type": "code",
   "execution_count": null,
   "metadata": {
    "collapsed": true
   },
   "outputs": [],
   "source": [
    "# "
   ]
  }
 ],
 "metadata": {
  "kernelspec": {
   "display_name": "Python 2",
   "language": "python",
   "name": "python2"
  },
  "language_info": {
   "codemirror_mode": {
    "name": "ipython",
    "version": 2
   },
   "file_extension": ".py",
   "mimetype": "text/x-python",
   "name": "python",
   "nbconvert_exporter": "python",
   "pygments_lexer": "ipython2",
   "version": "2.7.11"
  }
 },
 "nbformat": 4,
 "nbformat_minor": 2
}
